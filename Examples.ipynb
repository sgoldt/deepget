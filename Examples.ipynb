{
 "cells": [
  {
   "cell_type": "markdown",
   "metadata": {},
   "source": [
    "# Examples for loading samples"
   ]
  },
  {
   "cell_type": "markdown",
   "metadata": {},
   "source": [
    "## September 2020"
   ]
  },
  {
   "cell_type": "code",
   "execution_count": 3,
   "metadata": {},
   "outputs": [],
   "source": [
    "import torch\n",
    "\n",
    "import utils"
   ]
  },
  {
   "cell_type": "markdown",
   "metadata": {},
   "source": [
    "# Gaussian projections of greyscale CIFAR100"
   ]
  },
  {
   "cell_type": "code",
   "execution_count": 3,
   "metadata": {},
   "outputs": [
    {
     "name": "stdout",
     "output_type": "stream",
     "text": [
      "Loaded moments of generator dcgan_cifar100_grey\n"
     ]
    }
   ],
   "source": [
    "device = \"cpu\"\n",
    "num_samples = 10000\n",
    "generator_name = \"dcgan_cifar100_grey\"\n",
    "transform_name = \"rand_proj_gauss_sign_from1024_to2048\"\n",
    "cs, xs = utils.get_inputs_by_name(device, num_samples, generator_name, transform_name)"
   ]
  },
  {
   "cell_type": "markdown",
   "metadata": {},
   "source": [
    "Let's make a quick check to ensure that the covariance matrix stored agrees with the empirical covariance matrix of the data we just generated:"
   ]
  },
  {
   "cell_type": "code",
   "execution_count": 14,
   "metadata": {},
   "outputs": [],
   "source": [
    "emp_cov = 1 / num_samples * xs.T @ xs"
   ]
  },
  {
   "cell_type": "code",
   "execution_count": 15,
   "metadata": {},
   "outputs": [],
   "source": [
    "Omega_fname = \"moments/%s_%s_omega.pt\" % (generator_name, transform_name)\n",
    "Omega = torch.load(Omega_fname, map_location=device)"
   ]
  },
  {
   "cell_type": "code",
   "execution_count": 16,
   "metadata": {},
   "outputs": [
    {
     "data": {
      "text/plain": [
       "tensor(0.0051)"
      ]
     },
     "execution_count": 16,
     "metadata": {},
     "output_type": "execute_result"
    }
   ],
   "source": [
    "torch.sum((Omega - emp_cov)**2) / torch.sum(Omega**2)"
   ]
  },
  {
   "cell_type": "markdown",
   "metadata": {},
   "source": [
    "## Let's look at some images"
   ]
  },
  {
   "cell_type": "code",
   "execution_count": 1,
   "metadata": {},
   "outputs": [],
   "source": [
    "import torch\n",
    "\n",
    "from torchvision import datasets\n",
    "import torchvision.utils as vutils\n",
    "\n",
    "import utils"
   ]
  },
  {
   "cell_type": "markdown",
   "metadata": {},
   "source": [
    "Load the generator"
   ]
  },
  {
   "cell_type": "code",
   "execution_count": 2,
   "metadata": {},
   "outputs": [],
   "source": [
    "gen = utils.get_generator(\"dcgan_cifar100_grey\", device=\"cpu\")"
   ]
  },
  {
   "cell_type": "markdown",
   "metadata": {},
   "source": [
    "and generate some images:"
   ]
  },
  {
   "cell_type": "code",
   "execution_count": 10,
   "metadata": {},
   "outputs": [],
   "source": [
    "cs = torch.randn(64, gen.N_in)"
   ]
  },
  {
   "cell_type": "code",
   "execution_count": 11,
   "metadata": {},
   "outputs": [],
   "source": [
    "gan_xs = gen.transform(cs).reshape(-1, 1, 32, 32)"
   ]
  },
  {
   "cell_type": "markdown",
   "metadata": {},
   "source": [
    "Now let's load cifar100 and transform to grayscale"
   ]
  },
  {
   "cell_type": "code",
   "execution_count": 5,
   "metadata": {},
   "outputs": [
    {
     "name": "stdout",
     "output_type": "stream",
     "text": [
      "Files already downloaded and verified\n"
     ]
    }
   ],
   "source": [
    "N = 32 * 32\n",
    "dataset = datasets.CIFAR100(\"~/datasets/cifar100\", train=False, download=True)\n",
    "xs = torch.tensor(dataset.data).float()\n",
    "\n",
    "# Now let's transform the inputs to gray-scale\n",
    "xs = xs.permute(0, 3, 1, 2)\n",
    "# constants taken from the pyTorch function rgb_to_grayscale\n",
    "cifar100_xs = (\n",
    "    0.2989 * xs[:, 0, :, :]\n",
    "    + 0.5870 * xs[:, 1, :, :]\n",
    "    + 0.1140 * xs[:, 2, :, :]\n",
    ").reshape(-1, 1, 32, 32)"
   ]
  },
  {
   "cell_type": "markdown",
   "metadata": {},
   "source": [
    "Now do some manual normalisation for the images to be in the range (0, 1):"
   ]
  },
  {
   "cell_type": "code",
   "execution_count": 12,
   "metadata": {},
   "outputs": [],
   "source": [
    "cifar100_xs_normalised = cifar100_xs / 255\n",
    "\n",
    "gan_xs_normalised = (gan_xs - torch.min(gan_xs))\n",
    "gan_xs_normalised /= torch.max(gan_xs_normalised)"
   ]
  },
  {
   "cell_type": "markdown",
   "metadata": {},
   "source": [
    "and put the two together:"
   ]
  },
  {
   "cell_type": "code",
   "execution_count": 13,
   "metadata": {},
   "outputs": [],
   "source": [
    "images = torch.zeros(64, 1, 32, 32)"
   ]
  },
  {
   "cell_type": "code",
   "execution_count": 14,
   "metadata": {},
   "outputs": [],
   "source": [
    "images[:32] = cifar100_xs_normalised[:32]\n",
    "images[32:] = gan_xs_normalised[:32]"
   ]
  },
  {
   "cell_type": "code",
   "execution_count": 15,
   "metadata": {},
   "outputs": [],
   "source": [
    "vutils.save_image(images.detach(), \"dcgan_cifar100_gray_samples.png\", \n",
    "       )"
   ]
  },
  {
   "cell_type": "code",
   "execution_count": null,
   "metadata": {},
   "outputs": [],
   "source": []
  }
 ],
 "metadata": {
  "kernelspec": {
   "display_name": "Python 3",
   "language": "python",
   "name": "python3"
  },
  "language_info": {
   "codemirror_mode": {
    "name": "ipython",
    "version": 3
   },
   "file_extension": ".py",
   "mimetype": "text/x-python",
   "name": "python",
   "nbconvert_exporter": "python",
   "pygments_lexer": "ipython3",
   "version": "3.8.3"
  }
 },
 "nbformat": 4,
 "nbformat_minor": 4
}
